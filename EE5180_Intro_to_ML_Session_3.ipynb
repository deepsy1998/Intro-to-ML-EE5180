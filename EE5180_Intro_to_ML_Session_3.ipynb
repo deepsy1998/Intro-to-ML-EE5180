{
  "cells": [
    {
      "cell_type": "markdown",
      "source": [
        "## **EE5180: Laboratory Session-3: Perceptron & Multi_Layer Perceptron (MLP)**\n",
        "\n",
        "Agenda:\n",
        "1. Single Layer Perceptron for Linear Separable Data\n",
        "2. AND, OR Implementation using Single Layer Perceptron \n",
        "3. XOR Implementation using Multi Layer Perceptron (MLP)\n",
        "4. Digit Classification with MNIST Data using MLP"
      ],
      "metadata": {
        "id": "04Le9fgu2Nrq"
      }
    },
    {
      "cell_type": "markdown",
      "source": [
        "### **1. Single Layer Perceptron for Linear Separable Data**"
      ],
      "metadata": {
        "id": "8TSAanP02d01"
      }
    },
    {
      "cell_type": "markdown",
      "source": [
        "![Fig.1_Colab.jpg](data:image/jpeg;base64,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)"
      ],
      "metadata": {
        "id": "Jy0ZiuEaGOLz"
      }
    },
    {
      "cell_type": "code",
      "source": [
        "from google.colab import drive\n",
        "drive.mount('/content/drive')\n",
        "%cd /content/drive/MyDrive/EE5180_MLLab"
      ],
      "metadata": {
        "id": "Z7tGI65b2b5c",
        "colab": {
          "base_uri": "https://localhost:8080/"
        },
        "outputId": "8998161b-5d6a-4cf0-edd9-f32dd05e650e"
      },
      "execution_count": null,
      "outputs": [
        {
          "output_type": "stream",
          "name": "stdout",
          "text": [
            "Drive already mounted at /content/drive; to attempt to forcibly remount, call drive.mount(\"/content/drive\", force_remount=True).\n",
            "/content/drive/MyDrive/EE5180_MLLab\n"
          ]
        }
      ]
    },
    {
      "cell_type": "markdown",
      "source": [
        "Import Libraries"
      ],
      "metadata": {
        "id": "zbWQbA7420d7"
      }
    },
    {
      "cell_type": "code",
      "source": [
        "import numpy as np\n",
        "import matplotlib.pyplot as plt\n",
        "import torch\n",
        "%matplotlib inline"
      ],
      "metadata": {
        "id": "M-7YM-Ip2a5J"
      },
      "execution_count": null,
      "outputs": []
    },
    {
      "cell_type": "markdown",
      "source": [
        "Prepare a toy dataset: Dataset.txt"
      ],
      "metadata": {
        "id": "fMbgfSD02_Nv"
      }
    },
    {
      "cell_type": "code",
      "source": [
        "\n",
        "data = np.genfromtxt('Dataset.txt', delimiter='\\t')\n",
        "x, y = data[:, :2], data[:, 2]    #x: features, y: labels\n",
        "y = y.astype(np.int)\n",
        "\n",
        "print('Class label counts:', np.bincount(y))\n",
        "print('x.shape:', x.shape)\n",
        "print('y.shape:', y.shape)\n",
        "\n",
        "# Shuffling & train/test split\n",
        "shuffle_idx = np.arange(y.shape[0])\n",
        "shuffle_rng = np.random.RandomState(123)\n",
        "shuffle_rng.shuffle(shuffle_idx)\n",
        "x, y = x[shuffle_idx], y[shuffle_idx]\n",
        "\n",
        "x_train, x_test = x[shuffle_idx[:70]], x[shuffle_idx[70:]]\n",
        "y_train, y_test = y[shuffle_idx[:70]], y[shuffle_idx[70:]]\n",
        "\n",
        "# Normalize (mean zero, unit variance)\n",
        "mu, sigma = x_train.mean(axis=0), x_train.std(axis=0)\n",
        "x_train = (x_train - mu) / sigma\n",
        "x_test = (x_test - mu) / sigma"
      ],
      "metadata": {
        "id": "7HIrmaW8257y",
        "colab": {
          "base_uri": "https://localhost:8080/"
        },
        "outputId": "ee25a9bd-c1bf-4f5d-f044-d77a5f328c0e"
      },
      "execution_count": null,
      "outputs": [
        {
          "output_type": "stream",
          "name": "stdout",
          "text": [
            "Class label counts: [50 50]\n",
            "x.shape: (100, 2)\n",
            "y.shape: (100,)\n"
          ]
        },
        {
          "output_type": "stream",
          "name": "stderr",
          "text": [
            "/usr/local/lib/python3.7/dist-packages/ipykernel_launcher.py:3: DeprecationWarning: `np.int` is a deprecated alias for the builtin `int`. To silence this warning, use `int` by itself. Doing this will not modify any behavior and is safe. When replacing `np.int`, you may wish to use e.g. `np.int64` or `np.int32` to specify the precision. If you wish to review your current use, check the release note link for additional information.\n",
            "Deprecated in NumPy 1.20; for more details and guidance: https://numpy.org/devdocs/release/1.20.0-notes.html#deprecations\n",
            "  This is separate from the ipykernel package so we can avoid doing imports until\n"
          ]
        }
      ]
    },
    {
      "cell_type": "markdown",
      "source": [
        "Plot Training Data"
      ],
      "metadata": {
        "id": "r4xYeqUhGY0-"
      }
    },
    {
      "cell_type": "code",
      "source": [
        "plt.scatter(x_train[y_train==0, 0], x_train[y_train==0, 1], label='class 0', marker='o')\n",
        "plt.scatter(x_train[y_train==1, 0], x_train[y_train==1, 1], label='class 1', marker='s')\n",
        "plt.title('Training set')\n",
        "plt.xlabel('feature 1')\n",
        "plt.ylabel('feature 2')\n",
        "plt.xlim([-3, 3])\n",
        "plt.ylim([-3, 3])\n",
        "plt.legend()\n",
        "plt.show()"
      ],
      "metadata": {
        "id": "5xwDJ37g254e",
        "colab": {
          "base_uri": "https://localhost:8080/",
          "height": 295
        },
        "outputId": "f02c3229-2773-4f49-da03-175a887d1210"
      },
      "execution_count": null,
      "outputs": [
        {
          "output_type": "display_data",
          "data": {
            "text/plain": [
              "<Figure size 432x288 with 1 Axes>"
            ],
            "image/png": "[encoded data removed]"
          },
          "metadata": {
            "needs_background": "light"
          }
        }
      ]
    },
    {
      "cell_type": "markdown",
      "source": [
        "Plot Test Data"
      ],
      "metadata": {
        "id": "DHXVDHE1GfFa"
      }
    },
    {
      "cell_type": "code",
      "source": [
        "plt.scatter(x_test[y_test==0, 0], x_test[y_test==0, 1], label='class 0', marker='o')\n",
        "plt.scatter(x_test[y_test==1, 0], x_test[y_test==1, 1], label='class 1', marker='s')\n",
        "plt.title('Test set')\n",
        "plt.xlabel('feature 1')\n",
        "plt.ylabel('feature 2')\n",
        "plt.xlim([-3, 3])\n",
        "plt.ylim([-3, 3])\n",
        "plt.legend()\n",
        "plt.show()"
      ],
      "metadata": {
        "id": "e6eF4iIa251T",
        "colab": {
          "base_uri": "https://localhost:8080/",
          "height": 295
        },
        "outputId": "501e411f-76de-4217-8959-20d3546325bc"
      },
      "execution_count": null,
      "outputs": [
        {
          "output_type": "display_data",
          "data": {
            "text/plain": [
              "<Figure size 432x288 with 1 Axes>"
            ],
            "image/png": "[encoded data removed]"
          },
          "metadata": {
            "needs_background": "light"
          }
        }
      ]
    },
    {
      "cell_type": "markdown",
      "source": [
        "Define the Perceptron Model and its Training Rule"
      ],
      "metadata": {
        "id": "rRd0Da3cGls4"
      }
    },
    {
      "cell_type": "code",
      "source": [
        "device = torch.device(\"cuda:0\" if torch.cuda.is_available() else \"cpu\")\n",
        "\n",
        "\n",
        "class Perceptron():\n",
        "    def __init__(self, num_features):\n",
        "        self.num_features = num_features\n",
        "        self.weights = torch.zeros(num_features, 1, \n",
        "                                   dtype=torch.float32, device=device)\n",
        "        self.bias = torch.zeros(1, dtype=torch.float32, device=device)\n",
        "        \n",
        "        # placeholder vectors so they don't\n",
        "        # need to be recreated each time\n",
        "        self.ones = torch.ones(1)\n",
        "        self.zeros = torch.zeros(1)\n",
        "\n",
        "    def forward(self, x):\n",
        "        linear = torch.mm(x, self.weights) + self.bias\n",
        "        predictions = torch.where(linear > 0., self.ones, self.zeros)\n",
        "        return predictions\n",
        "        \n",
        "    def backward(self, x, y):  \n",
        "        predictions = self.forward(x)\n",
        "        errors = y - predictions\n",
        "        return errors\n",
        "        \n",
        "    def train(self, x, y, epochs):\n",
        "        for e in range(epochs):\n",
        "            \n",
        "            for i in range(y.shape[0]):\n",
        "                # use view because backward expects a matrix (i.e., 2D tensor)\n",
        "                errors = self.backward(x[i].reshape(1, self.num_features), y[i]).reshape(-1)\n",
        "                self.weights += (errors * x[i]).reshape(self.num_features, 1)\n",
        "                self.bias += errors\n",
        "                \n",
        "    def evaluate(self, x, y):\n",
        "        predictions = self.forward(x).reshape(-1)\n",
        "        accuracy = torch.sum(predictions == y).float() / y.shape[0]\n",
        "        return accuracy"
      ],
      "metadata": {
        "id": "6j6P45-J25y9"
      },
      "execution_count": null,
      "outputs": []
    },
    {
      "cell_type": "markdown",
      "source": [
        "Training and Testing the Perceptron"
      ],
      "metadata": {
        "id": "0DSrUmoSGyDD"
      }
    },
    {
      "cell_type": "code",
      "source": [
        "#TRAINING\n",
        "ppn = Perceptron(num_features=2)\n",
        "\n",
        "x_train_tensor = torch.tensor(x_train, dtype=torch.float32, device=device)\n",
        "y_train_tensor = torch.tensor(y_train, dtype=torch.float32, device=device)\n",
        "\n",
        "ppn.train(x_train_tensor, y_train_tensor, epochs=5)\n",
        "\n",
        "print('Model parameters:')\n",
        "print('  Weights: %s' % ppn.weights)\n",
        "print('  Bias: %s' % ppn.bias)\n",
        "\n",
        "#TESTING\n",
        "x_test_tensor = torch.tensor(x_test, dtype=torch.float32, device=device)\n",
        "y_test_tensor = torch.tensor(y_test, dtype=torch.float32, device=device)\n",
        "\n",
        "test_acc = ppn.evaluate(x_test_tensor, y_test_tensor)\n",
        "print('Test set accuracy: %.2f%%' % (test_acc*100))"
      ],
      "metadata": {
        "id": "eOvSJDwH25wA",
        "colab": {
          "base_uri": "https://localhost:8080/"
        },
        "outputId": "fd8071b6-5d02-49f0-8aff-67ed613571cf"
      },
      "execution_count": null,
      "outputs": [
        {
          "output_type": "stream",
          "name": "stdout",
          "text": [
            "Model parameters:\n",
            "  Weights: tensor([[1.2734],\n",
            "        [1.3464]])\n",
            "  Bias: tensor([-1.])\n",
            "Test set accuracy: 93.33%\n"
          ]
        }
      ]
    },
    {
      "cell_type": "markdown",
      "source": [
        "Plot the Decision Boundary"
      ],
      "metadata": {
        "id": "afgueQBlG43R"
      }
    },
    {
      "cell_type": "code",
      "source": [
        "w, b = ppn.weights, ppn.bias\n",
        "\n",
        "x0_min = -2\n",
        "x1_min = ( (-(w[0] * x0_min) - b[0]) \n",
        "          / w[1] )\n",
        "\n",
        "x0_max = 2\n",
        "x1_max = ( (-(w[0] * x0_max) - b[0]) \n",
        "          / w[1] )\n",
        "\n",
        "\n",
        "fig, ax = plt.subplots(1, 2, sharex=True, figsize=(7, 3))\n",
        "\n",
        "ax[0].plot([x0_min, x0_max], [x1_min, x1_max])\n",
        "ax[1].plot([x0_min, x0_max], [x1_min, x1_max])\n",
        "\n",
        "ax[0].scatter(x_train[y_train==0, 0], x_train[y_train==0, 1], label='class 0', marker='o')\n",
        "ax[0].scatter(x_train[y_train==1, 0], x_train[y_train==1, 1], label='class 1', marker='s')\n",
        "\n",
        "ax[1].scatter(x_test[y_test==0, 0], x_test[y_test==0, 1], label='class 0', marker='o')\n",
        "ax[1].scatter(x_test[y_test==1, 0], x_test[y_test==1, 1], label='class 1', marker='s')\n",
        "\n",
        "ax[1].legend(loc='upper left')\n",
        "plt.show()"
      ],
      "metadata": {
        "id": "49x_nOvR25s9",
        "colab": {
          "base_uri": "https://localhost:8080/",
          "height": 211
        },
        "outputId": "94e75861-5d6a-490d-e40a-9dad283209b3"
      },
      "execution_count": null,
      "outputs": [
        {
          "output_type": "display_data",
          "data": {
            "text/plain": [
              "<Figure size 504x216 with 2 Axes>"
            ],
            "image/png": "[encoded data removed]"
          },
          "metadata": {
            "needs_background": "light"
          }
        }
      ]
    },
    {
      "cell_type": "markdown",
      "source": [
        "**-----------------End of Part-I---------------**"
      ],
      "metadata": {
        "id": "ApFJimQPG_-X"
      }
    },
    {
      "cell_type": "code",
      "source": [
        "from google.colab import drive\n",
        "drive.mount('/content/drive')"
      ],
      "metadata": {
        "colab": {
          "base_uri": "https://localhost:8080/"
        },
        "id": "_9jpMWiFctLj",
        "outputId": "d122aaa7-5db2-41c4-ac2b-00304a8fe220"
      },
      "execution_count": null,
      "outputs": [
        {
          "output_type": "stream",
          "name": "stdout",
          "text": [
            "Mounted at /content/drive\n"
          ]
        }
      ]
    },
    {
      "cell_type": "code",
      "source": [
        "%cd /content/drive/MyDrive/ML_Demo_9922"
      ],
      "metadata": {
        "colab": {
          "base_uri": "https://localhost:8080/"
        },
        "id": "TTX8K9ondm6g",
        "outputId": "21d083f5-8be6-49e8-b06d-74a8944fe8db"
      },
      "execution_count": null,
      "outputs": [
        {
          "output_type": "stream",
          "name": "stdout",
          "text": [
            "/content/drive/MyDrive/ML_Demo_9922\n"
          ]
        }
      ]
    },
    {
      "cell_type": "code",
      "source": [
        "!ls"
      ],
      "metadata": {
        "colab": {
          "base_uri": "https://localhost:8080/"
        },
        "id": "ATN4aaq6e7II",
        "outputId": "50440e8f-b357-4961-ec1d-70f33ac55c4a"
      },
      "execution_count": null,
      "outputs": [
        {
          "output_type": "stream",
          "name": "stdout",
          "text": [
            "data  data.csv\tweights.pth\n"
          ]
        }
      ]
    },
    {
      "cell_type": "markdown",
      "source": [
        "## **3. AND OR XOR Implementation using MLP**"
      ],
      "metadata": {
        "id": "q37hmqdzhZSP"
      }
    },
    {
      "cell_type": "markdown",
      "source": [
        "# **The rule**\n",
        "The output node has a \"threshold\" t.\n",
        "\n",
        "Rule: If summed input ≥ t, then it \"fires\" (output y = 1).\n",
        "\n",
        "Else (summed input < t) it doesn't fire (output y = 0).\n",
        "\n"
      ],
      "metadata": {
        "id": "XHRbEeYK8IO5"
      }
    },
    {
      "cell_type": "markdown",
      "source": [
        "# **Perceptron for XOR:**\n",
        "XOR is where if one is 1 and other is 0 but not both.\n",
        "\n",
        "Need:\n",
        "1.w1 + 0.w2 cause a fire, i.e. >= t\n",
        "\n",
        "0.w1 + 1.w2 >= t\n",
        "\n",
        "0.w1 + 0.w2 doesn't fire, i.e. < t\n",
        "\n",
        "1.w1 + 1.w2 also doesn't fire, < t\n",
        "\n",
        "\n",
        "w1 >= t\n",
        "\n",
        "w2 >= t\n",
        "\n",
        "0 < t\n",
        "\n",
        "w1+w2 < t\n",
        "\n",
        "Contradiction."
      ],
      "metadata": {
        "id": "bFUqy88Y6WMR"
      }
    },
    {
      "cell_type": "code",
      "source": [
        "#import libraries \n",
        "import torch\n",
        "import torch.nn as nn\n",
        "from torch.autograd import Variable\n",
        "import numpy as np"
      ],
      "metadata": {
        "id": "AFg-3yqOhiUa"
      },
      "execution_count": null,
      "outputs": []
    },
    {
      "cell_type": "code",
      "source": [
        "# create data\n",
        "Xs = torch.Tensor([[0., 0.],\n",
        "               [0., 1.],\n",
        "               [1., 0.],\n",
        "               [1., 1.]])\n",
        "\n",
        "y = torch.Tensor([0., 1., 1., 0.]).reshape(Xs.shape[0], 1)"
      ],
      "metadata": {
        "id": "VP4GQeiAhiQ9"
      },
      "execution_count": null,
      "outputs": []
    },
    {
      "cell_type": "markdown",
      "source": [
        "Design the XOR model using Neural Network module of Torch"
      ],
      "metadata": {
        "id": "FaZE_x1Bhq7f"
      }
    },
    {
      "cell_type": "code",
      "source": [
        "class XOR(nn.Module):\n",
        "    def __init__(self):\n",
        "        super(XOR, self).__init__()\n",
        "        self.linear1 = nn.Linear(2, 2)    #linear (m,n) Creates a neurons with m inputs and n outputs\n",
        "        self.Sigmoid = nn.Sigmoid()\n",
        "        self.linear2 = nn.Linear(2, 1)\n",
        "        self.Sigmoid2 = nn.Sigmoid()\n",
        "\n",
        "    def forward(self, input):\n",
        "      x = self.linear1(input)\n",
        "      sig = self.Sigmoid(x)\n",
        "      x2 = self.linear2(sig)\n",
        "      sig2 = self.Sigmoid2(x2)\n",
        "      \n",
        "      return sig2"
      ],
      "metadata": {
        "id": "3KHGaAikhiKA"
      },
      "execution_count": null,
      "outputs": []
    },
    {
      "cell_type": "code",
      "source": [
        "xor_network = XOR()"
      ],
      "metadata": {
        "id": "Wo7SA0I1hiDt"
      },
      "execution_count": null,
      "outputs": []
    },
    {
      "cell_type": "code",
      "source": [
        "epochs = 1000\n",
        "#loss_fn = nn.CrossEntropyLoss()\n",
        "loss_fn= nn.MSELoss()\n",
        "optimizer = torch.optim.Adam(xor_network.parameters(), lr = 0.03)\n",
        "all_losses = []\n",
        "current_loss = 0\n",
        "plot_every = 50\n",
        "\n",
        "for epoch in range(epochs):\n",
        "\n",
        "  # input training example and return the prediction\n",
        "  yhat = xor_network.forward(Xs)\n",
        "\n",
        "  # calculate MSE loss\n",
        "  loss = loss_fn(yhat, y)\n",
        "  \n",
        "  # backpropogate through the loss gradiants\n",
        "  loss.backward()\n",
        "\n",
        "  # update model weights\n",
        "  optimizer.step()\n",
        "\n",
        "  # remove current gradients for next iteration\n",
        "  optimizer.zero_grad()\n",
        "\n",
        "  # append to loss\n",
        "  current_loss += loss\n",
        "  if epoch % plot_every == 0:\n",
        "      all_losses.append(current_loss / plot_every)\n",
        "      #print(current_loss)\n",
        "      current_loss = 0\n",
        "  \n",
        "  # print progress\n",
        "  if epoch % 500 == 0:\n",
        "    print(f'Epoch: {epoch} completed')"
      ],
      "metadata": {
        "id": "cKO3sUxMhh6P",
        "colab": {
          "base_uri": "https://localhost:8080/"
        },
        "outputId": "c1a39d76-b093-4866-eb88-19e9c59ae4b1"
      },
      "execution_count": null,
      "outputs": [
        {
          "output_type": "stream",
          "name": "stdout",
          "text": [
            "Epoch: 0 completed\n",
            "Epoch: 500 completed\n"
          ]
        }
      ]
    },
    {
      "cell_type": "code",
      "source": [
        "#xor_network.load_state_dict(torch.load('/content/drive/MyDrive/ML_Demo_9922/weights.pth'))"
      ],
      "metadata": {
        "id": "Ake3QDZBhhlG",
        "colab": {
          "base_uri": "https://localhost:8080/",
          "height": 311
        },
        "outputId": "ab2ee22d-5c9c-4963-e2e7-433b364814a5"
      },
      "execution_count": null,
      "outputs": [
        {
          "output_type": "error",
          "ename": "FileNotFoundError",
          "evalue": "ignored",
          "traceback": [
            "\u001b[0;31m---------------------------------------------------------------------------\u001b[0m",
            "\u001b[0;31mFileNotFoundError\u001b[0m                         Traceback (most recent call last)",
            "\u001b[0;32m<ipython-input-9-507289454664>\u001b[0m in \u001b[0;36m<module>\u001b[0;34m\u001b[0m\n\u001b[0;32m----> 1\u001b[0;31m \u001b[0mxor_network\u001b[0m\u001b[0;34m.\u001b[0m\u001b[0mload_state_dict\u001b[0m\u001b[0;34m(\u001b[0m\u001b[0mtorch\u001b[0m\u001b[0;34m.\u001b[0m\u001b[0mload\u001b[0m\u001b[0;34m(\u001b[0m\u001b[0;34m'/content/drive/MyDrive/ML_Demo_9922/weights.pth'\u001b[0m\u001b[0;34m)\u001b[0m\u001b[0;34m)\u001b[0m\u001b[0;34m\u001b[0m\u001b[0;34m\u001b[0m\u001b[0m\n\u001b[0m",
            "\u001b[0;32m/usr/local/lib/python3.7/dist-packages/torch/serialization.py\u001b[0m in \u001b[0;36mload\u001b[0;34m(f, map_location, pickle_module, **pickle_load_args)\u001b[0m\n\u001b[1;32m    697\u001b[0m         \u001b[0mpickle_load_args\u001b[0m\u001b[0;34m[\u001b[0m\u001b[0;34m'encoding'\u001b[0m\u001b[0;34m]\u001b[0m \u001b[0;34m=\u001b[0m \u001b[0;34m'utf-8'\u001b[0m\u001b[0;34m\u001b[0m\u001b[0;34m\u001b[0m\u001b[0m\n\u001b[1;32m    698\u001b[0m \u001b[0;34m\u001b[0m\u001b[0m\n\u001b[0;32m--> 699\u001b[0;31m     \u001b[0;32mwith\u001b[0m \u001b[0m_open_file_like\u001b[0m\u001b[0;34m(\u001b[0m\u001b[0mf\u001b[0m\u001b[0;34m,\u001b[0m \u001b[0;34m'rb'\u001b[0m\u001b[0;34m)\u001b[0m \u001b[0;32mas\u001b[0m \u001b[0mopened_file\u001b[0m\u001b[0;34m:\u001b[0m\u001b[0;34m\u001b[0m\u001b[0;34m\u001b[0m\u001b[0m\n\u001b[0m\u001b[1;32m    700\u001b[0m         \u001b[0;32mif\u001b[0m \u001b[0m_is_zipfile\u001b[0m\u001b[0;34m(\u001b[0m\u001b[0mopened_file\u001b[0m\u001b[0;34m)\u001b[0m\u001b[0;34m:\u001b[0m\u001b[0;34m\u001b[0m\u001b[0;34m\u001b[0m\u001b[0m\n\u001b[1;32m    701\u001b[0m             \u001b[0;31m# The zipfile reader is going to advance the current file position.\u001b[0m\u001b[0;34m\u001b[0m\u001b[0;34m\u001b[0m\u001b[0;34m\u001b[0m\u001b[0m\n",
            "\u001b[0;32m/usr/local/lib/python3.7/dist-packages/torch/serialization.py\u001b[0m in \u001b[0;36m_open_file_like\u001b[0;34m(name_or_buffer, mode)\u001b[0m\n\u001b[1;32m    228\u001b[0m \u001b[0;32mdef\u001b[0m \u001b[0m_open_file_like\u001b[0m\u001b[0;34m(\u001b[0m\u001b[0mname_or_buffer\u001b[0m\u001b[0;34m,\u001b[0m \u001b[0mmode\u001b[0m\u001b[0;34m)\u001b[0m\u001b[0;34m:\u001b[0m\u001b[0;34m\u001b[0m\u001b[0;34m\u001b[0m\u001b[0m\n\u001b[1;32m    229\u001b[0m     \u001b[0;32mif\u001b[0m \u001b[0m_is_path\u001b[0m\u001b[0;34m(\u001b[0m\u001b[0mname_or_buffer\u001b[0m\u001b[0;34m)\u001b[0m\u001b[0;34m:\u001b[0m\u001b[0;34m\u001b[0m\u001b[0;34m\u001b[0m\u001b[0m\n\u001b[0;32m--> 230\u001b[0;31m         \u001b[0;32mreturn\u001b[0m \u001b[0m_open_file\u001b[0m\u001b[0;34m(\u001b[0m\u001b[0mname_or_buffer\u001b[0m\u001b[0;34m,\u001b[0m \u001b[0mmode\u001b[0m\u001b[0;34m)\u001b[0m\u001b[0;34m\u001b[0m\u001b[0;34m\u001b[0m\u001b[0m\n\u001b[0m\u001b[1;32m    231\u001b[0m     \u001b[0;32melse\u001b[0m\u001b[0;34m:\u001b[0m\u001b[0;34m\u001b[0m\u001b[0;34m\u001b[0m\u001b[0m\n\u001b[1;32m    232\u001b[0m         \u001b[0;32mif\u001b[0m \u001b[0;34m'w'\u001b[0m \u001b[0;32min\u001b[0m \u001b[0mmode\u001b[0m\u001b[0;34m:\u001b[0m\u001b[0;34m\u001b[0m\u001b[0;34m\u001b[0m\u001b[0m\n",
            "\u001b[0;32m/usr/local/lib/python3.7/dist-packages/torch/serialization.py\u001b[0m in \u001b[0;36m__init__\u001b[0;34m(self, name, mode)\u001b[0m\n\u001b[1;32m    209\u001b[0m \u001b[0;32mclass\u001b[0m \u001b[0m_open_file\u001b[0m\u001b[0;34m(\u001b[0m\u001b[0m_opener\u001b[0m\u001b[0;34m)\u001b[0m\u001b[0;34m:\u001b[0m\u001b[0;34m\u001b[0m\u001b[0;34m\u001b[0m\u001b[0m\n\u001b[1;32m    210\u001b[0m     \u001b[0;32mdef\u001b[0m \u001b[0m__init__\u001b[0m\u001b[0;34m(\u001b[0m\u001b[0mself\u001b[0m\u001b[0;34m,\u001b[0m \u001b[0mname\u001b[0m\u001b[0;34m,\u001b[0m \u001b[0mmode\u001b[0m\u001b[0;34m)\u001b[0m\u001b[0;34m:\u001b[0m\u001b[0;34m\u001b[0m\u001b[0;34m\u001b[0m\u001b[0m\n\u001b[0;32m--> 211\u001b[0;31m         \u001b[0msuper\u001b[0m\u001b[0;34m(\u001b[0m\u001b[0m_open_file\u001b[0m\u001b[0;34m,\u001b[0m \u001b[0mself\u001b[0m\u001b[0;34m)\u001b[0m\u001b[0;34m.\u001b[0m\u001b[0m__init__\u001b[0m\u001b[0;34m(\u001b[0m\u001b[0mopen\u001b[0m\u001b[0;34m(\u001b[0m\u001b[0mname\u001b[0m\u001b[0;34m,\u001b[0m \u001b[0mmode\u001b[0m\u001b[0;34m)\u001b[0m\u001b[0;34m)\u001b[0m\u001b[0;34m\u001b[0m\u001b[0;34m\u001b[0m\u001b[0m\n\u001b[0m\u001b[1;32m    212\u001b[0m \u001b[0;34m\u001b[0m\u001b[0m\n\u001b[1;32m    213\u001b[0m     \u001b[0;32mdef\u001b[0m \u001b[0m__exit__\u001b[0m\u001b[0;34m(\u001b[0m\u001b[0mself\u001b[0m\u001b[0;34m,\u001b[0m \u001b[0;34m*\u001b[0m\u001b[0margs\u001b[0m\u001b[0;34m)\u001b[0m\u001b[0;34m:\u001b[0m\u001b[0;34m\u001b[0m\u001b[0;34m\u001b[0m\u001b[0m\n",
            "\u001b[0;31mFileNotFoundError\u001b[0m: [Errno 2] No such file or directory: '/content/drive/MyDrive/ML_Demo_9922/weights.pth'"
          ]
        }
      ]
    },
    {
      "cell_type": "code",
      "source": [
        "# show weights and bias\n",
        "w=[]\n",
        "for name, param in xor_network.named_parameters():\n",
        "    if param.requires_grad:\n",
        "        w.append(param.data)\n",
        "        print(name, param.data)"
      ],
      "metadata": {
        "id": "HdKpQ7w5hhib",
        "colab": {
          "base_uri": "https://localhost:8080/"
        },
        "outputId": "10ed3573-51f7-4f6e-eec8-f8f39e2927ef"
      },
      "execution_count": null,
      "outputs": [
        {
          "output_type": "stream",
          "name": "stdout",
          "text": [
            "linear1.weight tensor([[ 6.7010, -6.6896],\n",
            "        [-6.8702,  6.6570]])\n",
            "linear1.bias tensor([-3.7398, -3.6889])\n",
            "linear2.weight tensor([[8.3771, 8.3984]])\n",
            "linear2.bias tensor([-4.1565])\n"
          ]
        }
      ]
    },
    {
      "cell_type": "code",
      "source": [
        "import matplotlib.pyplot as plt\n",
        "xp=torch.tensor(np.linspace(-1,2,4))\n",
        "#yp=-(xp*w[0][0][0]+w[1][0])/w[0][0][1]\n",
        "yp1=-(xp*w[0][0][0]+w[1][0])/w[0][0][1]\n",
        "yp2=-(xp*w[0][1][0]+w[1][1])/w[0][1][1]\n",
        "yp3=-(xp*w[2][0][0]+w[3])/w[2][0][1]\n",
        "\n",
        "plt.scatter(Xs[:,0], Xs[:,1],c=y)\n",
        "#plt.plot(xp,yp,'m')\n",
        "plt.plot(xp,yp1,'k')\n",
        "plt.plot(xp,yp2,'b')\n",
        "#plt.plot(xp,yp3,'r')\n",
        "plt.ylabel('DATA')\n",
        "plt.xlim([-1, 2])\n",
        "plt.ylim([-1, 2])\n",
        "plt.show()\n",
        "\n"
      ],
      "metadata": {
        "id": "ghm4qqxAiKXT",
        "colab": {
          "base_uri": "https://localhost:8080/",
          "height": 269
        },
        "outputId": "a6e6611a-8e65-434e-d7c2-2883d9542dc8"
      },
      "execution_count": null,
      "outputs": [
        {
          "output_type": "display_data",
          "data": {
            "text/plain": [
              "<Figure size 432x288 with 1 Axes>"
            ],
            "image/png": "[encoded data removed]"
          },
          "metadata": {
            "needs_background": "light"
          }
        }
      ]
    },
    {
      "cell_type": "code",
      "source": [
        "print(yp2)"
      ],
      "metadata": {
        "colab": {
          "base_uri": "https://localhost:8080/"
        },
        "id": "nEHMcUhMHR1P",
        "outputId": "9722617f-e195-480d-9d4b-ba534786d5f8"
      },
      "execution_count": null,
      "outputs": [
        {
          "output_type": "stream",
          "name": "stdout",
          "text": [
            "tensor([ 1.4576,  0.4563, -0.5450, -1.5463], dtype=torch.float64)\n"
          ]
        }
      ]
    },
    {
      "cell_type": "code",
      "source": [
        "# test input\n",
        "x=[[0., 0.],[0.,1.],[1.,0.],[1.,1.]]\n",
        "input = torch.tensor(x)\n",
        "out = xor_network(input)\n",
        "print(out.round())"
      ],
      "metadata": {
        "id": "sJdnOzzjiTHJ",
        "colab": {
          "base_uri": "https://localhost:8080/"
        },
        "outputId": "35269016-3975-496f-c738-5f72885fc406"
      },
      "execution_count": null,
      "outputs": [
        {
          "output_type": "stream",
          "name": "stdout",
          "text": [
            "tensor([[0.0220],\n",
            "        [0.9796],\n",
            "        [0.9797],\n",
            "        [0.0193]], grad_fn=<SigmoidBackward0>)\n"
          ]
        }
      ]
    },
    {
      "cell_type": "code",
      "source": [
        "torch.save(xor_network.state_dict(), '/content/sample_data/weights.pth')"
      ],
      "metadata": {
        "id": "xtA0AcBIMA0H"
      },
      "execution_count": null,
      "outputs": []
    },
    {
      "cell_type": "markdown",
      "source": [
        "**--------------End of Part-III------------**"
      ],
      "metadata": {
        "id": "mZKq9qdPidB6"
      }
    },
    {
      "cell_type": "markdown",
      "metadata": {
        "id": "f4gSGV9J3HQQ"
      },
      "source": [
        "# Multi-Layer Perceptron, MNIST\n",
        "---\n",
        "In this notebook, we will train an MLP to classify images from the [MNIST database](http://yann.lecun.com/exdb/mnist/) hand-written digit database.\n",
        "\n",
        "The process will be broken down into the following steps:\n",
        ">1. Load and visualize the data\n",
        "2. Define a neural network\n",
        "3. Train the model\n",
        "4. Evaluate the performance of our trained model on a test dataset!\n",
        "\n",
        "Before we begin, we have to import the necessary libraries for working with data and PyTorch."
      ]
    },
    {
      "cell_type": "code",
      "execution_count": null,
      "metadata": {
        "id": "VAIIPuX63HQT"
      },
      "outputs": [],
      "source": [
        "# import libraries\n",
        "import torch\n",
        "import numpy as np"
      ]
    },
    {
      "cell_type": "markdown",
      "metadata": {
        "id": "bdwIF3bK3HQU"
      },
      "source": [
        "---\n",
        "## Load and Visualize the [Data](http://pytorch.org/docs/stable/torchvision/datasets.html)\n",
        "\n",
        "Downloading may take a few moments, and you should see your progress as the data is loading. You may also choose to change the `batch_size` if you want to load more data at a time.\n",
        "\n",
        "This cell will create DataLoaders for each of our datasets."
      ]
    },
    {
      "cell_type": "code",
      "execution_count": null,
      "metadata": {
        "id": "yRbvbu5o3HQV"
      },
      "outputs": [],
      "source": [
        "from torchvision import datasets\n",
        "import torchvision.transforms as transforms\n",
        "\n",
        "# number of subprocesses to use for data loading\n",
        "num_workers = 0\n",
        "# how many samples per batch to load\n",
        "batch_size = 20\n",
        "\n",
        "# convert data to torch.FloatTensor\n",
        "transform = transforms.ToTensor()\n",
        "\n",
        "# choose the training and test datasets\n",
        "train_data = datasets.MNIST(root='data', train=True,\n",
        "                                   download=True, transform=transform)\n",
        "test_data = datasets.MNIST(root='data', train=False,\n",
        "                                  download=True, transform=transform)\n",
        "\n",
        "# prepare data loaders\n",
        "train_loader = torch.utils.data.DataLoader(train_data, batch_size=batch_size,\n",
        "    num_workers=num_workers)\n",
        "test_loader = torch.utils.data.DataLoader(test_data, batch_size=batch_size, \n",
        "    num_workers=num_workers)"
      ]
    },
    {
      "cell_type": "markdown",
      "metadata": {
        "id": "xlo5iUhO3HQW"
      },
      "source": [
        "### Visualize a Batch of Training Data\n",
        "\n",
        "The first step in a classification task is to take a look at the data, make sure it is loaded in correctly, then make any initial observations about patterns in that data."
      ]
    },
    {
      "cell_type": "code",
      "execution_count": null,
      "metadata": {
        "colab": {
          "base_uri": "https://localhost:8080/",
          "height": 268
        },
        "id": "iQh4DxAj3HQW",
        "outputId": "19fee36a-6bd9-43ba-89b2-3271b27501fd"
      },
      "outputs": [
        {
          "output_type": "display_data",
          "data": {
            "text/plain": [
              "<Figure size 1800x288 with 20 Axes>"
            ],
            "image/png": "[encoded data removed]"
          },
          "metadata": {}
        }
      ],
      "source": [
        "import matplotlib.pyplot as plt\n",
        "%matplotlib inline\n",
        "    \n",
        "# obtain one batch of training images\n",
        "dataiter = iter(train_loader)\n",
        "images, labels = dataiter.next()\n",
        "images = images.numpy()\n",
        "\n",
        "# plot the images in the batch, along with the corresponding labels\n",
        "fig = plt.figure(figsize=(25, 4))\n",
        "for idx in np.arange(20):\n",
        "    ax = fig.add_subplot(2, 20/2, idx+1, xticks=[], yticks=[])\n",
        "    ax.imshow(np.squeeze(images[idx]), cmap='gray')\n",
        "    # print out the correct label for each image\n",
        "    # .item() gets the value contained in a Tensor\n",
        "    ax.set_title(str(labels[idx].item()))"
      ]
    },
    {
      "cell_type": "markdown",
      "metadata": {
        "id": "XfEPW92o3HQX"
      },
      "source": [
        "### View an Image in More Detail"
      ]
    },
    {
      "cell_type": "code",
      "execution_count": null,
      "metadata": {
        "colab": {
          "base_uri": "https://localhost:8080/",
          "height": 700
        },
        "id": "R_zrZ0Mm3HQX",
        "outputId": "5ce1b378-ab45-4b98-bec1-0c5935372ae7"
      },
      "outputs": [
        {
          "output_type": "display_data",
          "data": {
            "text/plain": [
              "<Figure size 864x864 with 1 Axes>"
            ],
            "image/png": "[encoded data removed]"
          },
          "metadata": {
            "needs_background": "light"
          }
        }
      ],
      "source": [
        "img = np.squeeze(images[1])\n",
        "\n",
        "fig = plt.figure(figsize = (12,12)) \n",
        "ax = fig.add_subplot(111)\n",
        "ax.imshow(img, cmap='gray')\n",
        "width, height = img.shape\n",
        "thresh = img.max()/2.5\n",
        "for x in range(width):\n",
        "    for y in range(height):\n",
        "        val = round(img[x][y],2) if img[x][y] !=0 else 0\n",
        "        ax.annotate(str(val), xy=(y,x),\n",
        "                    horizontalalignment='center',\n",
        "                    verticalalignment='center',\n",
        "                    color='white' if img[x][y]<thresh else 'black')"
      ]
    },
    {
      "cell_type": "markdown",
      "metadata": {
        "id": "dUaWZcPa3HQY"
      },
      "source": [
        "---\n",
        "## Define the Network [Architecture](http://pytorch.org/docs/stable/nn.html)\n",
        "\n",
        "The architecture will be responsible for seeing as input a 784-dim Tensor of pixel values for each image, and producing a Tensor of length 10 (our number of classes) that indicates the class scores for an input image. This particular example uses two hidden layers and dropout to avoid overfitting."
      ]
    },
    {
      "cell_type": "code",
      "execution_count": null,
      "metadata": {
        "colab": {
          "base_uri": "https://localhost:8080/"
        },
        "id": "6TWFfGt23HQY",
        "outputId": "cc1372e3-60d0-4c67-c9db-3e857e9efb82"
      },
      "outputs": [
        {
          "output_type": "stream",
          "name": "stdout",
          "text": [
            "Net(\n",
            "  (fc1): Linear(in_features=784, out_features=512, bias=True)\n",
            "  (fc2): Linear(in_features=512, out_features=512, bias=True)\n",
            "  (fc3): Linear(in_features=512, out_features=10, bias=True)\n",
            "  (dropout): Dropout(p=0.2, inplace=False)\n",
            ")\n"
          ]
        }
      ],
      "source": [
        "import torch.nn as nn\n",
        "import torch.nn.functional as F\n",
        "\n",
        "## Define the NN architecture\n",
        "class Net(nn.Module):\n",
        "    def __init__(self):\n",
        "        super(Net, self).__init__()\n",
        "        self.fc1 = nn.Linear(28 * 28, 512)\n",
        "        # linear layer (n_hidden -> hidden_2)\n",
        "        self.fc2 = nn.Linear(512, 512)\n",
        "        # linear layer (n_hidden -> 10)\n",
        "        self.fc3 = nn.Linear(512, 10)\n",
        "        # dropout layer (p=0.2)\n",
        "        # dropout prevents overfitting of data\n",
        "        self.dropout = nn.Dropout(0.2)\n",
        "\n",
        "    def forward(self, x):\n",
        "        # flatten image input\n",
        "        x = x.view(-1, 28 * 28)\n",
        "        # add hidden layer, with relu activation function\n",
        "        x = F.relu(self.fc1(x))\n",
        "        return x\n",
        "\n",
        "# initialize the NN\n",
        "model = Net()\n",
        "print(model)"
      ]
    },
    {
      "cell_type": "markdown",
      "metadata": {
        "id": "91Ne1XP93HQZ"
      },
      "source": [
        "###  Specify [Loss Function](http://pytorch.org/docs/stable/nn.html#loss-functions) and [Optimizer](http://pytorch.org/docs/stable/optim.html)\n",
        "\n",
        "It's recommended that you use cross-entropy loss for classification. If you look at the documentation (linked above), you can see that PyTorch's cross entropy function applies a softmax funtion to the output layer *and* then calculates the log loss."
      ]
    },
    {
      "cell_type": "code",
      "execution_count": null,
      "metadata": {
        "id": "uQGLejh93HQZ"
      },
      "outputs": [],
      "source": [
        "## Specify loss and optimization functions\n",
        "\n",
        "# specify loss function\n",
        "criterion = nn.CrossEntropyLoss()\n",
        "\n",
        "# specify optimizer\n",
        "optimizer = torch.optim.SGD(model.parameters(), lr=0.01)"
      ]
    },
    {
      "cell_type": "markdown",
      "metadata": {
        "id": "zdr3KjRT3HQZ"
      },
      "source": [
        "---\n",
        "## Train the Network\n",
        "\n",
        "The steps for training/learning from a batch of data are described in the comments below:\n",
        "1. Clear the gradients of all optimized variables\n",
        "2. Forward pass: compute predicted outputs by passing inputs to the model\n",
        "3. Calculate the loss\n",
        "4. Backward pass: compute gradient of the loss with respect to model parameters\n",
        "5. Perform a single optimization step (parameter update)\n",
        "6. Update average training loss\n",
        "\n",
        "The following loop trains for 30 epochs; feel free to change this number. For now, we suggest somewhere between 20-50 epochs. As you train, take a look at how the values for the training loss decrease over time. We want it to decrease while also avoiding overfitting the training data. "
      ]
    },
    {
      "cell_type": "code",
      "execution_count": null,
      "metadata": {
        "colab": {
          "base_uri": "https://localhost:8080/"
        },
        "id": "EYMk1CA93HQZ",
        "outputId": "efd31ec5-3106-4cf2-8c68-8522635240a3"
      },
      "outputs": [
        {
          "output_type": "stream",
          "name": "stdout",
          "text": [
            "Epoch: 1 \tTraining Loss: 0.791651\n",
            "Epoch: 2 \tTraining Loss: 0.411622\n",
            "Epoch: 3 \tTraining Loss: 0.370094\n",
            "Epoch: 4 \tTraining Loss: 0.349025\n",
            "Epoch: 5 \tTraining Loss: 0.335589\n",
            "Epoch: 6 \tTraining Loss: 0.326019\n",
            "Epoch: 7 \tTraining Loss: 0.318735\n",
            "Epoch: 8 \tTraining Loss: 0.312940\n",
            "Epoch: 9 \tTraining Loss: 0.308181\n",
            "Epoch: 10 \tTraining Loss: 0.304176\n",
            "Epoch: 11 \tTraining Loss: 0.300741\n",
            "Epoch: 12 \tTraining Loss: 0.297750\n",
            "Epoch: 13 \tTraining Loss: 0.295113\n",
            "Epoch: 14 \tTraining Loss: 0.292762\n",
            "Epoch: 15 \tTraining Loss: 0.290647\n",
            "Epoch: 16 \tTraining Loss: 0.288731\n",
            "Epoch: 17 \tTraining Loss: 0.286983\n",
            "Epoch: 18 \tTraining Loss: 0.285379\n",
            "Epoch: 19 \tTraining Loss: 0.283899\n",
            "Epoch: 20 \tTraining Loss: 0.282527\n",
            "Epoch: 21 \tTraining Loss: 0.281251\n",
            "Epoch: 22 \tTraining Loss: 0.280059\n",
            "Epoch: 23 \tTraining Loss: 0.278942\n",
            "Epoch: 24 \tTraining Loss: 0.277891\n",
            "Epoch: 25 \tTraining Loss: 0.276901\n",
            "Epoch: 26 \tTraining Loss: 0.275966\n",
            "Epoch: 27 \tTraining Loss: 0.275079\n",
            "Epoch: 28 \tTraining Loss: 0.274238\n",
            "Epoch: 29 \tTraining Loss: 0.273438\n",
            "Epoch: 30 \tTraining Loss: 0.272675\n"
          ]
        }
      ],
      "source": [
        "# number of epochs to train the model\n",
        "n_epochs = 30  # suggest training between 20-50 epochs\n",
        "\n",
        "model.train() # prep model for training\n",
        "\n",
        "for epoch in range(n_epochs):\n",
        "    # monitor training loss\n",
        "    train_loss = 0.0\n",
        "    \n",
        "    ###################\n",
        "    # train the model #\n",
        "    ###################\n",
        "    for data, target in train_loader:\n",
        "        # clear the gradients of all optimized variables\n",
        "        optimizer.zero_grad()\n",
        "        # forward pass: compute predicted outputs by passing inputs to the model\n",
        "        output = model(data)\n",
        "        # calculate the loss\n",
        "        loss = criterion(output, target)\n",
        "        # backward pass: compute gradient of the loss with respect to model parameters\n",
        "        loss.backward()\n",
        "        # perform a single optimization step (parameter update)\n",
        "        optimizer.step()\n",
        "        # update running training loss\n",
        "        train_loss += loss.item()*data.size(0)\n",
        "        \n",
        "    # print training statistics \n",
        "    # calculate average loss over an epoch\n",
        "    train_loss = train_loss/len(train_loader.dataset)\n",
        "\n",
        "    print('Epoch: {} \\tTraining Loss: {:.6f}'.format(\n",
        "        epoch+1, \n",
        "        train_loss\n",
        "        ))"
      ]
    },
    {
      "cell_type": "markdown",
      "metadata": {
        "id": "fTBm8hjA3HQa"
      },
      "source": [
        "---\n",
        "## Test the Trained Network\n",
        "\n",
        "Finally, we test our best model on previously unseen **test data** and evaluate it's performance. Testing on unseen data is a good way to check that our model generalizes well. It may also be useful to be granular in this analysis and take a look at how this model performs on each class as well as looking at its overall loss and accuracy.\n",
        "\n",
        "#### `model.eval()`\n",
        "\n",
        "`model.eval(`) will set all the layers in your model to evaluation mode. This affects layers like dropout layers that turn \"off\" nodes during training with some probability, but should allow every node to be \"on\" for evaluation!"
      ]
    },
    {
      "cell_type": "code",
      "execution_count": null,
      "metadata": {
        "colab": {
          "base_uri": "https://localhost:8080/"
        },
        "id": "IYy1SAhY3HQa",
        "outputId": "fe9b823d-4571-4c9e-ee62-e478b7e7ed9b"
      },
      "outputs": [
        {
          "output_type": "stream",
          "name": "stdout",
          "text": [
            "Test Loss: 0.274017\n",
            "\n",
            "Test Accuracy of     0: 98% (962/980)\n",
            "Test Accuracy of     1: 97% (1109/1135)\n",
            "Test Accuracy of     2: 89% (919/1032)\n",
            "Test Accuracy of     3: 90% (914/1010)\n",
            "Test Accuracy of     4: 92% (910/982)\n",
            "Test Accuracy of     5: 87% (781/892)\n",
            "Test Accuracy of     6: 94% (908/958)\n",
            "Test Accuracy of     7: 92% (946/1028)\n",
            "Test Accuracy of     8: 88% (864/974)\n",
            "Test Accuracy of     9: 90% (915/1009)\n",
            "\n",
            "Test Accuracy (Overall): 92% (9228/10000)\n"
          ]
        }
      ],
      "source": [
        "# initialize lists to monitor test loss and accuracy\n",
        "test_loss = 0.0\n",
        "class_correct = list(0. for i in range(10))\n",
        "class_total = list(0. for i in range(10))\n",
        "\n",
        "model.eval() # prep model for *evaluation*\n",
        "\n",
        "for data, target in test_loader:\n",
        "    # forward pass: compute predicted outputs by passing inputs to the model\n",
        "    output = model(data)\n",
        "    # calculate the loss\n",
        "    loss = criterion(output, target)\n",
        "    # update test loss \n",
        "    test_loss += loss.item()*data.size(0)\n",
        "    # convert output probabilities to predicted class\n",
        "    _, pred = torch.max(output, 1)\n",
        "    # compare predictions to true label\n",
        "    correct = np.squeeze(pred.eq(target.data.view_as(pred)))\n",
        "    # calculate test accuracy for each object class\n",
        "    for i in range(batch_size):\n",
        "        label = target.data[i]\n",
        "        class_correct[label] += correct[i].item()\n",
        "        class_total[label] += 1\n",
        "\n",
        "# calculate and print avg test loss\n",
        "test_loss = test_loss/len(test_loader.dataset)\n",
        "print('Test Loss: {:.6f}\\n'.format(test_loss))\n",
        "\n",
        "for i in range(10):\n",
        "    if class_total[i] > 0:\n",
        "        print('Test Accuracy of %5s: %2d%% (%2d/%2d)' % (\n",
        "            str(i), 100 * class_correct[i] / class_total[i],\n",
        "            np.sum(class_correct[i]), np.sum(class_total[i])))\n",
        "    else:\n",
        "        print('Test Accuracy of %5s: N/A (no training examples)' % (classes[i]))\n",
        "\n",
        "print('\\nTest Accuracy (Overall): %2d%% (%2d/%2d)' % (\n",
        "    100. * np.sum(class_correct) / np.sum(class_total),\n",
        "    np.sum(class_correct), np.sum(class_total)))"
      ]
    },
    {
      "cell_type": "markdown",
      "metadata": {
        "id": "lAnBVZI73HQa"
      },
      "source": [
        "### Visualize Sample Test Results\n",
        "\n",
        "This cell displays test images and their labels in this format: `predicted (ground-truth)`. The text will be green for accurately classified examples and red for incorrect predictions."
      ]
    },
    {
      "cell_type": "code",
      "execution_count": null,
      "metadata": {
        "colab": {
          "base_uri": "https://localhost:8080/",
          "height": 268
        },
        "id": "cNDo4e2o3HQb",
        "outputId": "acea2ef6-1b5e-4110-a297-dba16b4f325c"
      },
      "outputs": [
        {
          "output_type": "display_data",
          "data": {
            "text/plain": [
              "<Figure size 1800x288 with 20 Axes>"
            ],
            "image/png": "[encoded data removed]"
          },
          "metadata": {}
        }
      ],
      "source": [
        "# obtain one batch of test images\n",
        "dataiter = iter(test_loader)\n",
        "images, labels = dataiter.next()\n",
        "\n",
        "# get sample outputs\n",
        "output = model(images)\n",
        "# convert output probabilities to predicted class\n",
        "_, preds = torch.max(output, 1)\n",
        "# prep images for display\n",
        "images = images.numpy()\n",
        "\n",
        "# plot the images in the batch, along with predicted and true labels\n",
        "fig = plt.figure(figsize=(25, 4))\n",
        "for idx in np.arange(20):\n",
        "    ax = fig.add_subplot(2, 20/2, idx+1, xticks=[], yticks=[])\n",
        "    ax.imshow(np.squeeze(images[idx]), cmap='gray')\n",
        "    ax.set_title(\"{} ({})\".format(str(preds[idx].item()), str(labels[idx].item())),\n",
        "                 color=(\"green\" if preds[idx]==labels[idx] else \"red\"))"
      ]
    }
  ],
  "metadata": {
    "anaconda-cloud": {},
    "kernelspec": {
      "display_name": "Python 3",
      "language": "python",
      "name": "python3"
    },
    "language_info": {
      "codemirror_mode": {
        "name": "ipython",
        "version": 3
      },
      "file_extension": ".py",
      "mimetype": "text/x-python",
      "name": "python",
      "nbconvert_exporter": "python",
      "pygments_lexer": "ipython3",
      "version": "3.6.3"
    },
    "colab": {
      "provenance": [],
      "collapsed_sections": []
    }
  },
  "nbformat": 4,
  "nbformat_minor": 0
}